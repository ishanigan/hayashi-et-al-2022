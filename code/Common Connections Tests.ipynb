{
 "cells": [
  {
   "cell_type": "code",
   "execution_count": 5,
   "id": "african-evolution",
   "metadata": {
    "scrolled": true
   },
   "outputs": [
    {
     "name": "stdout",
     "output_type": "stream",
     "text": [
      "loading from file\n",
      "processing connections\n",
      "generating weight matrices\n",
      "done\n",
      "found 110 of 134 uPN IDs upstream of KCs\n",
      "there are 50 neuprint glomeruli\n",
      "['D', 'DA1', 'DA2', 'DA3', 'DA4l', 'DA4m', 'DC1', 'DC2', 'DC3', 'DC4', 'DL1', 'DL2d', 'DL2v', 'DL3', 'DL4', 'DL5', 'DM1', 'DM2', 'DM3', 'DM4', 'DM5', 'DM6', 'DP1l', 'DP1m', 'V', 'VA1d', 'VA1v', 'VA2', 'VA3', 'VA4', 'VA5', 'VA6', 'VA7l', 'VA7m', 'VC1', 'VC2', 'VC3L+VC3M', 'VC4', 'VL1', 'VL2a', 'VL2p', 'VM1', 'VM2', 'VM3', 'VM4', 'VM5d', 'VM5v', 'VM7d', 'VM7v', 'VP1m']\n",
      "there are 50 caron glomeruli\n",
      "['D', 'DA1', 'DA2', 'DA3', 'DA4l', 'DA4m', 'DC1', 'DC2', 'DC3', 'DC4', 'DL1', 'DL2d', 'DL2v', 'DL3', 'DL4', 'DL5', 'DM1', 'DM2', 'DM3', 'DM4', 'DM5', 'DM6', 'DP1l', 'DP1m', 'V', 'VA1d', 'VA1v', 'VA2', 'VA3', 'VA4', 'VA5', 'VA6', 'VA7l', 'VA7m', 'VC1', 'VC2', 'VC3L+VC3M', 'VC4', 'VL1', 'VL2a', 'VL2p', 'VM1', 'VM2', 'VM3', 'VM4', 'VM5d', 'VM5v', 'VM7d', 'VM7v', 'VP1m']\n",
      "there are 50 fafb glomeruli\n",
      "['D', 'DA1', 'DA2', 'DA3', 'DA4l', 'DA4m', 'DC1', 'DC2', 'DC3', 'DC4', 'DL1', 'DL2d', 'DL2v', 'DL3', 'DL4', 'DL5', 'DM1', 'DM2', 'DM3', 'DM4', 'DM5', 'DM6', 'DP1l', 'DP1m', 'V', 'VA1d', 'VA1v', 'VA2', 'VA3', 'VA4', 'VA5', 'VA6', 'VA7l', 'VA7m', 'VC1', 'VC2', 'VC3L+VC3M', 'VC4', 'VL1', 'VL2a', 'VL2p', 'VM1', 'VM2', 'VM3', 'VM4', 'VM5d', 'VM5v', 'VM7d', 'VM7v', 'VP1m']\n",
      "there are 50 common glomeruli\n",
      "['DP1l', 'VM7d', 'DA2', 'DM3', 'DM1', 'DA4l', 'DC2', 'DL1', 'DC3', 'DL2d', 'VC3L+VC3M', 'VM7v', 'VL2a', 'VC1', 'DM2', 'VM3', 'VA7m', 'DL5', 'D', 'VM5d', 'VC2', 'VA2', 'VA4', 'VM4', 'DL4', 'VP1m', 'DA1', 'DM6', 'VA7l', 'DC4', 'VA5', 'VA3', 'DL3', 'DL2v', 'DM5', 'VC4', 'DA4m', 'VA1v', 'VL2p', 'DM4', 'DP1m', 'VM2', 'V', 'DC1', 'VA1d', 'DA3', 'VM1', 'VA6', 'VM5v', 'VL1']\n",
      "there are 0 only neuprint glomeruli\n",
      "[]\n",
      "there are 0 only fafb glomeruli\n",
      "[]\n"
     ]
    }
   ],
   "source": [
    "# Imports\n",
    "from helper_funcs_ConnectomeCompare import get_Caronlike, plot_ACP, alignConnectomes, run_PCA, subspace_angles, shufmat, confidence_interval \n",
    "\n",
    "W_Neuprint, W_Neuprint_thr, W_OGCaron, W_Caron2013, W_Mel_Male, W_Mel_Female, W_Sec_Female, W_Sim_Female, W_FAFB, cin_val, c, OGCaron = alignConnectomes()"
   ]
  },
  {
   "cell_type": "code",
   "execution_count": 6,
   "id": "intermediate-grove",
   "metadata": {},
   "outputs": [],
   "source": [
    "community = ['VM3', 'DL2d', 'VA2', 'VA4', 'DP1m', 'DM1', 'DM2', 'DM3', 'DM4', 'VM2']\n",
    "noni = ['DL2d', 'DM1', 'DM2', 'VA2', 'VC3L+VC3M', 'VM5d']"
   ]
  },
  {
   "cell_type": "code",
   "execution_count": 7,
   "id": "unavailable-perth",
   "metadata": {},
   "outputs": [],
   "source": [
    "def CommonConnection(glom_collection, weights):\n",
    "    W = weights[glom_collection]\n",
    "    suma = W.sum(axis=1)\n",
    "    suma_bool = (suma > 1)\n",
    "    proportion = suma_bool.value_counts()[1] / weights.shape[0]\n",
    "    return proportion"
   ]
  },
  {
   "cell_type": "code",
   "execution_count": 8,
   "id": "personal-distinction",
   "metadata": {},
   "outputs": [
    {
     "data": {
      "image/png": "[encoded data removed]",
      "text/plain": [
       "<Figure size 432x288 with 1 Axes>"
      ]
     },
     "metadata": {
      "needs_background": "light"
     },
     "output_type": "display_data"
    }
   ],
   "source": [
    "import matplotlib\n",
    "import matplotlib.pyplot as plt\n",
    "import numpy as np\n",
    "import pandas as pd\n",
    "z = 1.96\n",
    "\n",
    "datasets = [W_Mel_Female, W_Mel_Male, W_Sim_Female, W_Sec_Female, W_FAFB, W_Neuprint_thr, W_Caron2013]\n",
    "labels = ['Mel_Female', 'Mel_Male', 'Sim_Female', 'Sec_Female', 'FAFB', 'Neuprint', 'Caron 2013']\n",
    "props = []\n",
    "props_rand = []\n",
    "lowers = []\n",
    "highers = []\n",
    "num_shuffles = 100\n",
    "\n",
    "for dataset in datasets:\n",
    "    props.append(CommonConnection(community, dataset))\n",
    "    props_rand_list = []\n",
    "    for i in range(num_shuffles):\n",
    "        dataset_rand = shufmat(dataset)\n",
    "        dataset_rand = pd.DataFrame(dataset_rand)\n",
    "        dataset_rand.columns = dataset.columns\n",
    "        props_rand_list.append(CommonConnection(community, dataset_rand))\n",
    "    props_rand.append(np.mean(props_rand_list))\n",
    "    lower, higher = confidence_interval(props_rand_list)\n",
    "    lowers.append(np.mean(props_rand_list) - lower)\n",
    "    highers.append(higher - np.mean(props_rand_list))\n",
    "\n",
    "errors = np.array([lowers, highers])\n",
    "x = np.arange(len(labels))  # the label locations\n",
    "width = 0.35  # the width of the bars\n",
    "\n",
    "fig, ax = plt.subplots()\n",
    "rects1 = ax.bar(x - width/2, props, width, label='data')\n",
    "rects2 = ax.bar(x + width/2, props_rand, width, yerr = errors, label='shuffle')\n",
    "\n",
    "# Add some text for labels, title and custom x-axis tick labels, etc.\n",
    "ax.set_ylabel('KCs')\n",
    "ax.set_title('Proportion of KCs receiving input from more than one community neurons')\n",
    "ax.set_xticks(x)\n",
    "ax.set_xticklabels(labels)\n",
    "ax.legend()\n",
    "\n",
    "\n",
    "#def autolabel(rects):\n",
    "#    \"\"\"Attach a text label above each bar in *rects*, displaying its height.\"\"\"\n",
    "#    for rect in rects:\n",
    "#        height = rect.get_height()\n",
    "#        ax.annotate('{}'.format(height),\n",
    "#                    xy=(rect.get_x() + rect.get_width() / 2, height),\n",
    "#                    xytext=(0, 3),  # 3 points vertical offset\n",
    "#                    textcoords=\"offset points\",\n",
    "#                    ha='center', va='bottom')\n",
    "\n",
    "\n",
    "#autolabel(rects1)\n",
    "#autolabel(rects2)\n",
    "\n",
    "fig.tight_layout()\n",
    "\n",
    "plt.show()"
   ]
  },
  {
   "cell_type": "code",
   "execution_count": 9,
   "id": "interested-clarity",
   "metadata": {},
   "outputs": [
    {
     "data": {
      "image/png": "[encoded data removed]",
      "text/plain": [
       "<Figure size 432x288 with 1 Axes>"
      ]
     },
     "metadata": {
      "needs_background": "light"
     },
     "output_type": "display_data"
    }
   ],
   "source": [
    "import matplotlib\n",
    "import matplotlib.pyplot as plt\n",
    "import numpy as np\n",
    "import pandas as pd\n",
    "z = 1.96\n",
    "\n",
    "datasets = [W_Mel_Female, W_Mel_Male, W_Sim_Female, W_Sec_Female, W_FAFB, W_Neuprint_thr, W_Caron2013]\n",
    "labels = ['Mel_Female', 'Mel_Male', 'Sim_Female', 'Sec_Female', 'FAFB', 'Neuprint', 'Caron 2013']\n",
    "props = []\n",
    "props_rand = []\n",
    "lowers = []\n",
    "highers = []\n",
    "num_shuffles = 100\n",
    "\n",
    "for dataset in datasets:\n",
    "    props.append(CommonConnection(noni, dataset))\n",
    "    props_rand_list = []\n",
    "    for i in range(num_shuffles):\n",
    "        dataset_rand = shufmat(dataset)\n",
    "        dataset_rand = pd.DataFrame(dataset_rand)\n",
    "        dataset_rand.columns = dataset.columns\n",
    "        props_rand_list.append(CommonConnection(noni, dataset_rand))\n",
    "    props_rand.append(np.mean(props_rand_list))\n",
    "    lower, higher = confidence_interval(props_rand_list)\n",
    "    lowers.append(np.mean(props_rand_list) - lower)\n",
    "    highers.append(higher - np.mean(props_rand_list))\n",
    "\n",
    "errors = np.array([lowers, highers])\n",
    "x = np.arange(len(labels))  # the label locations\n",
    "width = 0.35  # the width of the bars\n",
    "\n",
    "fig, ax = plt.subplots()\n",
    "rects1 = ax.bar(x - width/2, props, width, label='data')\n",
    "rects2 = ax.bar(x + width/2, props_rand, width, yerr = errors, label='shuffle')\n",
    "\n",
    "# Add some text for labels, title and custom x-axis tick labels, etc.\n",
    "ax.set_ylabel('KCs')\n",
    "ax.set_title('Proportion of KCs receiving input from more than one noni neurons')\n",
    "ax.set_xticks(x)\n",
    "ax.set_xticklabels(labels)\n",
    "ax.legend()\n",
    "\n",
    "\n",
    "#def autolabel(rects):\n",
    "#    \"\"\"Attach a text label above each bar in *rects*, displaying its height.\"\"\"\n",
    "#    for rect in rects:\n",
    "#        height = rect.get_height()\n",
    "#        ax.annotate('{}'.format(height),\n",
    "#                    xy=(rect.get_x() + rect.get_width() / 2, height),\n",
    "#                    xytext=(0, 3),  # 3 points vertical offset\n",
    "#                    textcoords=\"offset points\",\n",
    "#                    ha='center', va='bottom')\n",
    "\n",
    "\n",
    "#autolabel(rects1)\n",
    "#autolabel(rects2)\n",
    "\n",
    "fig.tight_layout()\n",
    "\n",
    "plt.show()"
   ]
  },
  {
   "cell_type": "code",
   "execution_count": null,
   "id": "mexican-alert",
   "metadata": {},
   "outputs": [],
   "source": []
  }
 ],
 "metadata": {
  "kernelspec": {
   "display_name": "Python 3",
   "language": "python",
   "name": "python3"
  },
  "language_info": {
   "codemirror_mode": {
    "name": "ipython",
    "version": 3
   },
   "file_extension": ".py",
   "mimetype": "text/x-python",
   "name": "python",
   "nbconvert_exporter": "python",
   "pygments_lexer": "ipython3",
   "version": "3.8.5"
  }
 },
 "nbformat": 4,
 "nbformat_minor": 5
}
